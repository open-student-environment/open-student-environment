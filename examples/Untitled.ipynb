{
 "cells": [
  {
   "cell_type": "code",
   "execution_count": null,
   "metadata": {
    "collapsed": true
   },
   "outputs": [],
   "source": [
    "import os\n",
    "import json \n",
    "\n",
    "from collections import defaultdict\n",
    "from ose.utils import load_agent_data"
   ]
  },
  {
   "cell_type": "code",
   "execution_count": null,
   "metadata": {
    "collapsed": true
   },
   "outputs": [],
   "source": [
    "base_path = os.path.abspath(\n",
    "    os.path.join(os.curdir, os.pardir))\n",
    "filename = os.path.join(base_path, 'data/accounts-brneac3-0-20180630.json')\n",
    "data = load_agent_data(filename)"
   ]
  },
  {
   "cell_type": "code",
   "execution_count": null,
   "metadata": {
    "collapsed": true
   },
   "outputs": [],
   "source": [
    "import pprint"
   ]
  },
  {
   "cell_type": "code",
   "execution_count": null,
   "metadata": {
    "collapsed": true
   },
   "outputs": [],
   "source": [
    "pp = pprint.PrettyPrinter(indent=4)"
   ]
  },
  {
   "cell_type": "code",
   "execution_count": null,
   "metadata": {},
   "outputs": [],
   "source": [
    "pp.pprint(data[12775])"
   ]
  },
  {
   "cell_type": "code",
   "execution_count": null,
   "metadata": {
    "collapsed": true
   },
   "outputs": [],
   "source": []
  },
  {
   "cell_type": "code",
   "execution_count": null,
   "metadata": {
    "collapsed": true
   },
   "outputs": [],
   "source": [
    "groups = defaultdict(list)\n",
    "for user in data:\n",
    "    username = user['uuid']\n",
    "    role = user['role']\n",
    "    if role == 'user:enseignant':\n",
    "        for g in user['organizations']:\n",
    "            groups[g['id']].append(username)"
   ]
  },
  {
   "cell_type": "code",
   "execution_count": null,
   "metadata": {
    "collapsed": true
   },
   "outputs": [],
   "source": [
    "adjancy = defaultdict(set)\n",
    "\n",
    "for user in data:\n",
    "    username = user['uuid']\n",
    "    role = user['role']\n",
    "    for g in user['organizations']:\n",
    "        for parent in groups[g['id']]:\n",
    "            adjancy[parent].add(username)\n",
    "    if role ==  'user:enseignant':\n",
    "        if user['uai'] is not None:\n",
    "            adjancy[user['uai'].replace('.', ' ')].add(username)"
   ]
  },
  {
   "cell_type": "code",
   "execution_count": null,
   "metadata": {
    "collapsed": true
   },
   "outputs": [],
   "source": [
    "nodes = set(user['uuid'] for user in data)"
   ]
  },
  {
   "cell_type": "code",
   "execution_count": null,
   "metadata": {
    "collapsed": true
   },
   "outputs": [],
   "source": [
    "filename = 'test.gdf'\n",
    "with open(filename, 'w') as f:\n",
    "    f.write('nodedef> name VARCHAR\\n')\n",
    "    for node in nodes:\n",
    "        f.write(\"{}\\n\".format(node))\n",
    "    f.write('edgedef> node1 VARCHAR, node2 VARCHAR, weight DOUBLE\\n')\n",
    "    for parent, children in list(adjancy.items()):\n",
    "        for child in children:\n",
    "            f.write(\"{}, {}, {}\\n\".format(parent, child, 1))"
   ]
  },
  {
   "cell_type": "code",
   "execution_count": null,
   "metadata": {},
   "outputs": [],
   "source": [
    "len(nodes)"
   ]
  },
  {
   "cell_type": "code",
   "execution_count": null,
   "metadata": {},
   "outputs": [],
   "source": [
    "len(data)"
   ]
  },
  {
   "cell_type": "code",
   "execution_count": null,
   "metadata": {},
   "outputs": [],
   "source": [
    "len(set(user['uai'] for user in data if user['role'] == 'user:enseignant'))"
   ]
  },
  {
   "cell_type": "code",
   "execution_count": null,
   "metadata": {
    "collapsed": true
   },
   "outputs": [],
   "source": []
  }
 ],
 "metadata": {
  "kernelspec": {
   "display_name": "Python 3",
   "language": "python",
   "name": "python3"
  },
  "language_info": {
   "codemirror_mode": {
    "name": "ipython",
    "version": 3
   },
   "file_extension": ".py",
   "mimetype": "text/x-python",
   "name": "python",
   "nbconvert_exporter": "python",
   "pygments_lexer": "ipython3",
   "version": "3.6.1"
  }
 },
 "nbformat": 4,
 "nbformat_minor": 2
}
